{
 "cells": [
  {
   "cell_type": "markdown",
   "metadata": {},
   "source": [
    "# Importing the Required Libraries "
   ]
  },
  {
   "cell_type": "code",
   "execution_count": 26,
   "metadata": {},
   "outputs": [],
   "source": [
    "import quandl\n",
    "import numpy as np\n",
    "import datetime \n",
    "import matplotlib.pyplot as plt\n",
    "%matplotlib inline\n",
    "from matplotlib import style\n",
    "from sklearn.linear_model import LinearRegression\n",
    "from sklearn.svm import SVR\n",
    "from sklearn.model_selection import train_test_split"
   ]
  },
  {
   "cell_type": "markdown",
   "metadata": {},
   "source": [
    "# Getting the Data using the Quandl Platform"
   ]
  },
  {
   "cell_type": "code",
   "execution_count": 27,
   "metadata": {},
   "outputs": [],
   "source": [
    "data=quandl.get(\"BSE/BOM500180\", authtoken=\"BpykXDq3HaL3TM77Mtjd\")"
   ]
  },
  {
   "cell_type": "code",
   "execution_count": 28,
   "metadata": {},
   "outputs": [
    {
     "data": {
      "text/html": [
       "<div>\n",
       "<style scoped>\n",
       "    .dataframe tbody tr th:only-of-type {\n",
       "        vertical-align: middle;\n",
       "    }\n",
       "\n",
       "    .dataframe tbody tr th {\n",
       "        vertical-align: top;\n",
       "    }\n",
       "\n",
       "    .dataframe thead th {\n",
       "        text-align: right;\n",
       "    }\n",
       "</style>\n",
       "<table border=\"1\" class=\"dataframe\">\n",
       "  <thead>\n",
       "    <tr style=\"text-align: right;\">\n",
       "      <th></th>\n",
       "      <th>Open</th>\n",
       "      <th>High</th>\n",
       "      <th>Low</th>\n",
       "      <th>Close</th>\n",
       "      <th>WAP</th>\n",
       "      <th>No. of Shares</th>\n",
       "      <th>No. of Trades</th>\n",
       "      <th>Total Turnover</th>\n",
       "      <th>Deliverable Quantity</th>\n",
       "      <th>% Deli. Qty to Traded Qty</th>\n",
       "      <th>Spread H-L</th>\n",
       "      <th>Spread C-O</th>\n",
       "    </tr>\n",
       "    <tr>\n",
       "      <th>Date</th>\n",
       "      <th></th>\n",
       "      <th></th>\n",
       "      <th></th>\n",
       "      <th></th>\n",
       "      <th></th>\n",
       "      <th></th>\n",
       "      <th></th>\n",
       "      <th></th>\n",
       "      <th></th>\n",
       "      <th></th>\n",
       "      <th></th>\n",
       "      <th></th>\n",
       "    </tr>\n",
       "  </thead>\n",
       "  <tbody>\n",
       "    <tr>\n",
       "      <th>1995-05-26</th>\n",
       "      <td>42.00</td>\n",
       "      <td>45.00</td>\n",
       "      <td>38.50</td>\n",
       "      <td>40.00</td>\n",
       "      <td>0.000000</td>\n",
       "      <td>0.0</td>\n",
       "      <td>0.0</td>\n",
       "      <td>0.0</td>\n",
       "      <td>NaN</td>\n",
       "      <td>NaN</td>\n",
       "      <td>6.50</td>\n",
       "      <td>-2.00</td>\n",
       "    </tr>\n",
       "    <tr>\n",
       "      <th>1995-05-29</th>\n",
       "      <td>39.00</td>\n",
       "      <td>40.25</td>\n",
       "      <td>38.75</td>\n",
       "      <td>39.25</td>\n",
       "      <td>0.000000</td>\n",
       "      <td>0.0</td>\n",
       "      <td>0.0</td>\n",
       "      <td>0.0</td>\n",
       "      <td>NaN</td>\n",
       "      <td>NaN</td>\n",
       "      <td>1.50</td>\n",
       "      <td>0.25</td>\n",
       "    </tr>\n",
       "    <tr>\n",
       "      <th>1995-05-30</th>\n",
       "      <td>39.00</td>\n",
       "      <td>40.00</td>\n",
       "      <td>39.00</td>\n",
       "      <td>39.50</td>\n",
       "      <td>0.000000</td>\n",
       "      <td>0.0</td>\n",
       "      <td>0.0</td>\n",
       "      <td>0.0</td>\n",
       "      <td>NaN</td>\n",
       "      <td>NaN</td>\n",
       "      <td>1.00</td>\n",
       "      <td>0.50</td>\n",
       "    </tr>\n",
       "    <tr>\n",
       "      <th>1995-05-31</th>\n",
       "      <td>39.75</td>\n",
       "      <td>40.25</td>\n",
       "      <td>39.50</td>\n",
       "      <td>40.25</td>\n",
       "      <td>0.000000</td>\n",
       "      <td>0.0</td>\n",
       "      <td>0.0</td>\n",
       "      <td>0.0</td>\n",
       "      <td>NaN</td>\n",
       "      <td>NaN</td>\n",
       "      <td>0.75</td>\n",
       "      <td>0.50</td>\n",
       "    </tr>\n",
       "    <tr>\n",
       "      <th>1996-04-02</th>\n",
       "      <td>33.00</td>\n",
       "      <td>35.00</td>\n",
       "      <td>33.00</td>\n",
       "      <td>34.75</td>\n",
       "      <td>33.878745</td>\n",
       "      <td>70100.0</td>\n",
       "      <td>208.0</td>\n",
       "      <td>2374900.0</td>\n",
       "      <td>NaN</td>\n",
       "      <td>NaN</td>\n",
       "      <td>2.00</td>\n",
       "      <td>1.75</td>\n",
       "    </tr>\n",
       "  </tbody>\n",
       "</table>\n",
       "</div>"
      ],
      "text/plain": [
       "             Open   High    Low  Close        WAP  No. of Shares  \\\n",
       "Date                                                               \n",
       "1995-05-26  42.00  45.00  38.50  40.00   0.000000            0.0   \n",
       "1995-05-29  39.00  40.25  38.75  39.25   0.000000            0.0   \n",
       "1995-05-30  39.00  40.00  39.00  39.50   0.000000            0.0   \n",
       "1995-05-31  39.75  40.25  39.50  40.25   0.000000            0.0   \n",
       "1996-04-02  33.00  35.00  33.00  34.75  33.878745        70100.0   \n",
       "\n",
       "            No. of Trades  Total Turnover  Deliverable Quantity  \\\n",
       "Date                                                              \n",
       "1995-05-26            0.0             0.0                   NaN   \n",
       "1995-05-29            0.0             0.0                   NaN   \n",
       "1995-05-30            0.0             0.0                   NaN   \n",
       "1995-05-31            0.0             0.0                   NaN   \n",
       "1996-04-02          208.0       2374900.0                   NaN   \n",
       "\n",
       "            % Deli. Qty to Traded Qty  Spread H-L  Spread C-O  \n",
       "Date                                                           \n",
       "1995-05-26                        NaN        6.50       -2.00  \n",
       "1995-05-29                        NaN        1.50        0.25  \n",
       "1995-05-30                        NaN        1.00        0.50  \n",
       "1995-05-31                        NaN        0.75        0.50  \n",
       "1996-04-02                        NaN        2.00        1.75  "
      ]
     },
     "execution_count": 28,
     "metadata": {},
     "output_type": "execute_result"
    }
   ],
   "source": [
    "data.head()"
   ]
  },
  {
   "cell_type": "code",
   "execution_count": 29,
   "metadata": {},
   "outputs": [
    {
     "data": {
      "text/html": [
       "<div>\n",
       "<style scoped>\n",
       "    .dataframe tbody tr th:only-of-type {\n",
       "        vertical-align: middle;\n",
       "    }\n",
       "\n",
       "    .dataframe tbody tr th {\n",
       "        vertical-align: top;\n",
       "    }\n",
       "\n",
       "    .dataframe thead th {\n",
       "        text-align: right;\n",
       "    }\n",
       "</style>\n",
       "<table border=\"1\" class=\"dataframe\">\n",
       "  <thead>\n",
       "    <tr style=\"text-align: right;\">\n",
       "      <th></th>\n",
       "      <th>Open</th>\n",
       "      <th>High</th>\n",
       "      <th>Low</th>\n",
       "      <th>Close</th>\n",
       "      <th>WAP</th>\n",
       "      <th>No. of Shares</th>\n",
       "      <th>No. of Trades</th>\n",
       "      <th>Total Turnover</th>\n",
       "      <th>Deliverable Quantity</th>\n",
       "      <th>% Deli. Qty to Traded Qty</th>\n",
       "      <th>Spread H-L</th>\n",
       "      <th>Spread C-O</th>\n",
       "    </tr>\n",
       "    <tr>\n",
       "      <th>Date</th>\n",
       "      <th></th>\n",
       "      <th></th>\n",
       "      <th></th>\n",
       "      <th></th>\n",
       "      <th></th>\n",
       "      <th></th>\n",
       "      <th></th>\n",
       "      <th></th>\n",
       "      <th></th>\n",
       "      <th></th>\n",
       "      <th></th>\n",
       "      <th></th>\n",
       "    </tr>\n",
       "  </thead>\n",
       "  <tbody>\n",
       "    <tr>\n",
       "      <th>2019-11-06</th>\n",
       "      <td>1244.90</td>\n",
       "      <td>1259.00</td>\n",
       "      <td>1228.2</td>\n",
       "      <td>1257.00</td>\n",
       "      <td>1239.29</td>\n",
       "      <td>429391.0</td>\n",
       "      <td>5333.0</td>\n",
       "      <td>532138059.0</td>\n",
       "      <td>310195.0</td>\n",
       "      <td>72.24</td>\n",
       "      <td>30.80</td>\n",
       "      <td>12.10</td>\n",
       "    </tr>\n",
       "    <tr>\n",
       "      <th>2019-11-07</th>\n",
       "      <td>1259.75</td>\n",
       "      <td>1269.60</td>\n",
       "      <td>1249.8</td>\n",
       "      <td>1263.25</td>\n",
       "      <td>1261.86</td>\n",
       "      <td>210691.0</td>\n",
       "      <td>6790.0</td>\n",
       "      <td>265861689.0</td>\n",
       "      <td>81320.0</td>\n",
       "      <td>38.60</td>\n",
       "      <td>19.80</td>\n",
       "      <td>3.50</td>\n",
       "    </tr>\n",
       "    <tr>\n",
       "      <th>2019-11-08</th>\n",
       "      <td>1259.75</td>\n",
       "      <td>1267.00</td>\n",
       "      <td>1251.4</td>\n",
       "      <td>1254.70</td>\n",
       "      <td>1260.10</td>\n",
       "      <td>148960.0</td>\n",
       "      <td>4275.0</td>\n",
       "      <td>187704303.0</td>\n",
       "      <td>50789.0</td>\n",
       "      <td>34.10</td>\n",
       "      <td>15.60</td>\n",
       "      <td>-5.05</td>\n",
       "    </tr>\n",
       "    <tr>\n",
       "      <th>2019-11-11</th>\n",
       "      <td>1255.00</td>\n",
       "      <td>1268.00</td>\n",
       "      <td>1251.0</td>\n",
       "      <td>1263.90</td>\n",
       "      <td>1258.70</td>\n",
       "      <td>131545.0</td>\n",
       "      <td>4055.0</td>\n",
       "      <td>165576240.0</td>\n",
       "      <td>53915.0</td>\n",
       "      <td>40.99</td>\n",
       "      <td>17.00</td>\n",
       "      <td>8.90</td>\n",
       "    </tr>\n",
       "    <tr>\n",
       "      <th>2019-11-13</th>\n",
       "      <td>1263.90</td>\n",
       "      <td>1269.75</td>\n",
       "      <td>1254.2</td>\n",
       "      <td>1258.00</td>\n",
       "      <td>1261.44</td>\n",
       "      <td>119202.0</td>\n",
       "      <td>5147.0</td>\n",
       "      <td>150366292.0</td>\n",
       "      <td>57525.0</td>\n",
       "      <td>48.26</td>\n",
       "      <td>15.55</td>\n",
       "      <td>-5.90</td>\n",
       "    </tr>\n",
       "  </tbody>\n",
       "</table>\n",
       "</div>"
      ],
      "text/plain": [
       "               Open     High     Low    Close      WAP  No. of Shares  \\\n",
       "Date                                                                    \n",
       "2019-11-06  1244.90  1259.00  1228.2  1257.00  1239.29       429391.0   \n",
       "2019-11-07  1259.75  1269.60  1249.8  1263.25  1261.86       210691.0   \n",
       "2019-11-08  1259.75  1267.00  1251.4  1254.70  1260.10       148960.0   \n",
       "2019-11-11  1255.00  1268.00  1251.0  1263.90  1258.70       131545.0   \n",
       "2019-11-13  1263.90  1269.75  1254.2  1258.00  1261.44       119202.0   \n",
       "\n",
       "            No. of Trades  Total Turnover  Deliverable Quantity  \\\n",
       "Date                                                              \n",
       "2019-11-06         5333.0     532138059.0              310195.0   \n",
       "2019-11-07         6790.0     265861689.0               81320.0   \n",
       "2019-11-08         4275.0     187704303.0               50789.0   \n",
       "2019-11-11         4055.0     165576240.0               53915.0   \n",
       "2019-11-13         5147.0     150366292.0               57525.0   \n",
       "\n",
       "            % Deli. Qty to Traded Qty  Spread H-L  Spread C-O  \n",
       "Date                                                           \n",
       "2019-11-06                      72.24       30.80       12.10  \n",
       "2019-11-07                      38.60       19.80        3.50  \n",
       "2019-11-08                      34.10       15.60       -5.05  \n",
       "2019-11-11                      40.99       17.00        8.90  \n",
       "2019-11-13                      48.26       15.55       -5.90  "
      ]
     },
     "execution_count": 29,
     "metadata": {},
     "output_type": "execute_result"
    }
   ],
   "source": [
    "data.tail()"
   ]
  },
  {
   "cell_type": "code",
   "execution_count": 30,
   "metadata": {},
   "outputs": [],
   "source": [
    "my_data=data[['Open','Close','No. of Shares','Total Turnover']]"
   ]
  },
  {
   "cell_type": "code",
   "execution_count": 31,
   "metadata": {},
   "outputs": [
    {
     "data": {
      "text/html": [
       "<div>\n",
       "<style scoped>\n",
       "    .dataframe tbody tr th:only-of-type {\n",
       "        vertical-align: middle;\n",
       "    }\n",
       "\n",
       "    .dataframe tbody tr th {\n",
       "        vertical-align: top;\n",
       "    }\n",
       "\n",
       "    .dataframe thead th {\n",
       "        text-align: right;\n",
       "    }\n",
       "</style>\n",
       "<table border=\"1\" class=\"dataframe\">\n",
       "  <thead>\n",
       "    <tr style=\"text-align: right;\">\n",
       "      <th></th>\n",
       "      <th>Open</th>\n",
       "      <th>Close</th>\n",
       "      <th>No. of Shares</th>\n",
       "      <th>Total Turnover</th>\n",
       "    </tr>\n",
       "    <tr>\n",
       "      <th>Date</th>\n",
       "      <th></th>\n",
       "      <th></th>\n",
       "      <th></th>\n",
       "      <th></th>\n",
       "    </tr>\n",
       "  </thead>\n",
       "  <tbody>\n",
       "    <tr>\n",
       "      <th>2019-11-06</th>\n",
       "      <td>1244.90</td>\n",
       "      <td>1257.00</td>\n",
       "      <td>429391.0</td>\n",
       "      <td>532138059.0</td>\n",
       "    </tr>\n",
       "    <tr>\n",
       "      <th>2019-11-07</th>\n",
       "      <td>1259.75</td>\n",
       "      <td>1263.25</td>\n",
       "      <td>210691.0</td>\n",
       "      <td>265861689.0</td>\n",
       "    </tr>\n",
       "    <tr>\n",
       "      <th>2019-11-08</th>\n",
       "      <td>1259.75</td>\n",
       "      <td>1254.70</td>\n",
       "      <td>148960.0</td>\n",
       "      <td>187704303.0</td>\n",
       "    </tr>\n",
       "    <tr>\n",
       "      <th>2019-11-11</th>\n",
       "      <td>1255.00</td>\n",
       "      <td>1263.90</td>\n",
       "      <td>131545.0</td>\n",
       "      <td>165576240.0</td>\n",
       "    </tr>\n",
       "    <tr>\n",
       "      <th>2019-11-13</th>\n",
       "      <td>1263.90</td>\n",
       "      <td>1258.00</td>\n",
       "      <td>119202.0</td>\n",
       "      <td>150366292.0</td>\n",
       "    </tr>\n",
       "  </tbody>\n",
       "</table>\n",
       "</div>"
      ],
      "text/plain": [
       "               Open    Close  No. of Shares  Total Turnover\n",
       "Date                                                       \n",
       "2019-11-06  1244.90  1257.00       429391.0     532138059.0\n",
       "2019-11-07  1259.75  1263.25       210691.0     265861689.0\n",
       "2019-11-08  1259.75  1254.70       148960.0     187704303.0\n",
       "2019-11-11  1255.00  1263.90       131545.0     165576240.0\n",
       "2019-11-13  1263.90  1258.00       119202.0     150366292.0"
      ]
     },
     "execution_count": 31,
     "metadata": {},
     "output_type": "execute_result"
    }
   ],
   "source": [
    "my_data.tail() "
   ]
  },
  {
   "cell_type": "code",
   "execution_count": 32,
   "metadata": {},
   "outputs": [
    {
     "data": {
      "text/plain": [
       "<matplotlib.axes._subplots.AxesSubplot at 0x219a5c43438>"
      ]
     },
     "execution_count": 32,
     "metadata": {},
     "output_type": "execute_result"
    },
    {
     "data": {
      "image/png": "[encoded data removed]",
      "text/plain": [
       "<Figure size 1152x576 with 1 Axes>"
      ]
     },
     "metadata": {
      "needs_background": "light"
     },
     "output_type": "display_data"
    }
   ],
   "source": [
    "data['Close'].plot(label='HDFC',figsize=(16,8),title='Opening Price')"
   ]
  },
  {
   "cell_type": "code",
   "execution_count": 33,
   "metadata": {},
   "outputs": [
    {
     "name": "stdout",
     "output_type": "stream",
     "text": [
      "            Close\n",
      "Date             \n",
      "1995-05-26  40.00\n",
      "1995-05-29  39.25\n",
      "1995-05-30  39.50\n",
      "1995-05-31  40.25\n",
      "1996-04-02  34.75\n"
     ]
    }
   ],
   "source": [
    "data= data[['Close']]\n",
    "print(data.head())"
   ]
  },
  {
   "cell_type": "code",
   "execution_count": 34,
   "metadata": {},
   "outputs": [
    {
     "name": "stdout",
     "output_type": "stream",
     "text": [
      "              Close  Prediction\n",
      "Date                           \n",
      "2019-11-06  1257.00         NaN\n",
      "2019-11-07  1263.25         NaN\n",
      "2019-11-08  1254.70         NaN\n",
      "2019-11-11  1263.90         NaN\n",
      "2019-11-13  1258.00         NaN\n"
     ]
    }
   ],
   "source": [
    "forecast_out = 30\n",
    "data['Prediction'] = data[['Close']].shift(-forecast_out)\n",
    "print(data.tail())"
   ]
  },
  {
   "cell_type": "markdown",
   "metadata": {},
   "source": [
    "# Defining the Features and Labels"
   ]
  },
  {
   "cell_type": "code",
   "execution_count": 35,
   "metadata": {},
   "outputs": [
    {
     "name": "stdout",
     "output_type": "stream",
     "text": [
      "[[  40.  ]\n",
      " [  39.25]\n",
      " [  39.5 ]\n",
      " ...\n",
      " [1255.05]\n",
      " [1239.7 ]\n",
      " [1242.35]]\n"
     ]
    }
   ],
   "source": [
    "X = np.array(data.drop(['Prediction'],1))\n",
    "X = X[:-forecast_out]\n",
    "print(X)"
   ]
  },
  {
   "cell_type": "code",
   "execution_count": 36,
   "metadata": {},
   "outputs": [
    {
     "name": "stdout",
     "output_type": "stream",
     "text": [
      "[  34.75   34.75   35.5  ... 1254.7  1263.9  1258.  ]\n"
     ]
    }
   ],
   "source": [
    "y = np.array(data['Prediction'])\n",
    "y = y[:-forecast_out]\n",
    "print(y)"
   ]
  },
  {
   "cell_type": "markdown",
   "metadata": {},
   "source": [
    "# Splitting the Training and Testing Datasets, and Receving the Confidence Level on the Trained Data"
   ]
  },
  {
   "cell_type": "code",
   "execution_count": 37,
   "metadata": {},
   "outputs": [],
   "source": [
    "x_train, x_test, y_train, y_test = train_test_split(X, y, test_size=0.2)"
   ]
  },
  {
   "cell_type": "code",
   "execution_count": 38,
   "metadata": {},
   "outputs": [
    {
     "data": {
      "text/plain": [
       "SVR(C=1000.0, cache_size=200, coef0=0.0, degree=3, epsilon=0.1, gamma=0.1,\n",
       "  kernel='rbf', max_iter=-1, shrinking=True, tol=0.001, verbose=False)"
      ]
     },
     "execution_count": 38,
     "metadata": {},
     "output_type": "execute_result"
    }
   ],
   "source": [
    "svr_rbf = SVR(kernel='rbf', C=1e3, gamma=0.1)\n",
    "svr_rbf.fit(x_train, y_train)"
   ]
  },
  {
   "cell_type": "code",
   "execution_count": 39,
   "metadata": {},
   "outputs": [
    {
     "name": "stdout",
     "output_type": "stream",
     "text": [
      "svm confidence:  0.9337070955920886\n"
     ]
    }
   ],
   "source": [
    "svm_confidence = svr_rbf.score(x_test, y_test)\n",
    "print(\"svm confidence: \", svm_confidence)"
   ]
  },
  {
   "cell_type": "code",
   "execution_count": 40,
   "metadata": {},
   "outputs": [
    {
     "data": {
      "text/plain": [
       "LinearRegression(copy_X=True, fit_intercept=True, n_jobs=None,\n",
       "         normalize=False)"
      ]
     },
     "execution_count": 40,
     "metadata": {},
     "output_type": "execute_result"
    }
   ],
   "source": [
    "lr = LinearRegression()\n",
    "lr.fit(x_train, y_train)"
   ]
  },
  {
   "cell_type": "code",
   "execution_count": 41,
   "metadata": {},
   "outputs": [
    {
     "name": "stdout",
     "output_type": "stream",
     "text": [
      "lr confidence:  0.9158566349408966\n"
     ]
    }
   ],
   "source": [
    "lr_confidence = lr.score(x_test, y_test)\n",
    "print(\"lr confidence: \", lr_confidence)"
   ]
  },
  {
   "cell_type": "code",
   "execution_count": 42,
   "metadata": {},
   "outputs": [
    {
     "name": "stdout",
     "output_type": "stream",
     "text": [
      "[[1244.15]\n",
      " [1227.35]\n",
      " [1248.5 ]\n",
      " [1223.05]\n",
      " [1188.95]\n",
      " [1187.65]\n",
      " [1228.5 ]\n",
      " [1199.95]\n",
      " [1198.55]\n",
      " [1203.15]\n",
      " [1222.9 ]\n",
      " [1221.2 ]\n",
      " [1220.8 ]\n",
      " [1229.2 ]\n",
      " [1238.65]\n",
      " [1241.4 ]\n",
      " [1235.95]\n",
      " [1228.7 ]\n",
      " [1238.  ]\n",
      " [1242.15]\n",
      " [1248.45]\n",
      " [1229.95]\n",
      " [1240.35]\n",
      " [1236.65]\n",
      " [1239.4 ]\n",
      " [1257.  ]\n",
      " [1263.25]\n",
      " [1254.7 ]\n",
      " [1263.9 ]\n",
      " [1258.  ]]\n"
     ]
    }
   ],
   "source": [
    "x_forecast = np.array(data.drop(['Prediction'],1))[-forecast_out:]\n",
    "print(x_forecast)"
   ]
  },
  {
   "cell_type": "markdown",
   "metadata": {},
   "source": [
    "# Final Predictions for the next 30 days using both Linear Regression and SVM"
   ]
  },
  {
   "cell_type": "code",
   "execution_count": 43,
   "metadata": {
    "scrolled": false
   },
   "outputs": [
    {
     "name": "stdout",
     "output_type": "stream",
     "text": [
      "[1235.35469534 1219.15454293 1239.54937766 1215.00807535 1182.12562314\n",
      " 1180.87203992 1220.26348193 1192.73286579 1191.38285309 1195.8186091\n",
      " 1214.86343113 1213.22412999 1212.83841208 1220.93848828 1230.05107401\n",
      " 1232.70288467 1227.44747809 1220.45634089 1229.4242824  1233.42610576\n",
      " 1239.50116292 1221.66170937 1231.69037515 1228.12248444 1230.7742951\n",
      " 1247.74588334 1253.77272575 1245.52800533 1254.39951736 1248.71017812]\n",
      "[1122.64883507 1292.35318985 1305.55457337 1231.53613651 1299.53844035\n",
      " 1292.65404289 1298.36307258 1204.45679794 1198.5929945  1007.43285505\n",
      " 1229.35442586 1187.87190231 1178.63479246 1298.39910102 1258.21516861\n",
      " 1281.66713197 1380.76898316 1298.88252949 1269.75062486 1266.64116439\n",
      " 1308.01413843 1289.62514715 1273.5684278  1342.20284177 1260.64259856\n",
      " 1223.11982221 1287.68646548 1181.72824848 1260.60856189 1223.21512672]\n"
     ]
    }
   ],
   "source": [
    "lr_prediction = lr.predict(x_forecast)\n",
    "print(lr_prediction)\n",
    "svm_prediction = svr_rbf.predict(x_forecast)\n",
    "print(svm_prediction)"
   ]
  },
  {
   "cell_type": "code",
   "execution_count": null,
   "metadata": {},
   "outputs": [],
   "source": []
  },
  {
   "cell_type": "code",
   "execution_count": null,
   "metadata": {},
   "outputs": [],
   "source": []
  },
  {
   "cell_type": "code",
   "execution_count": null,
   "metadata": {},
   "outputs": [],
   "source": []
  },
  {
   "cell_type": "code",
   "execution_count": null,
   "metadata": {},
   "outputs": [],
   "source": []
  }
 ],
 "metadata": {
  "kernelspec": {
   "display_name": "Python 3",
   "language": "python",
   "name": "python3"
  },
  "language_info": {
   "codemirror_mode": {
    "name": "ipython",
    "version": 3
   },
   "file_extension": ".py",
   "mimetype": "text/x-python",
   "name": "python",
   "nbconvert_exporter": "python",
   "pygments_lexer": "ipython3",
   "version": "3.7.3"
  }
 },
 "nbformat": 4,
 "nbformat_minor": 2
}
